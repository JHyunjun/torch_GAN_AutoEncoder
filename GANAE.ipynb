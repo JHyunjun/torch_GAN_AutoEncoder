{
  "nbformat": 4,
  "nbformat_minor": 0,
  "metadata": {
    "colab": {
      "name": "GANAE",
      "private_outputs": true,
      "provenance": [],
      "mount_file_id": "1jSjrN6fXAgrN2NxLKQEbva48gyGWtYFK",
      "authorship_tag": "ABX9TyPh2rXoMBqgmfAkOOSdW2E8",
      "include_colab_link": true
    },
    "kernelspec": {
      "name": "python3",
      "display_name": "Python 3"
    },
    "language_info": {
      "name": "python"
    }
  },
  "cells": [
    {
      "cell_type": "markdown",
      "metadata": {
        "id": "view-in-github",
        "colab_type": "text"
      },
      "source": [
        "<a href=\"https://colab.research.google.com/github/JHyunjun/torch_GAN_AutoEncoder/blob/main/GANAE.ipynb\" target=\"_parent\"><img src=\"https://colab.research.google.com/assets/colab-badge.svg\" alt=\"Open In Colab\"/></a>"
      ]
    },
    {
      "cell_type": "code",
      "execution_count": null,
      "metadata": {
        "id": "p2BwrSM7k5jo"
      },
      "outputs": [],
      "source": [
        "from numpy import array\n",
        "import pandas as pd\n",
        "import numpy as np\n",
        "import pandas_datareader.data as pdr\n",
        "import matplotlib.pyplot as plt\n",
        "import datetime\n",
        "import torch\n",
        "import torch.nn as nn\n",
        "from torch.autograd import Variable\n",
        "import torch.optim as optim\n",
        "from torch.utils.data import Dataset, DataLoader\n",
        "from sklearn.preprocessing import StandardScaler, MinMaxScaler\n",
        "\n",
        "#Data Load\n",
        "df_train = pd.read_csv('/content/drive/MyDrive/Colab Notebooks/Data/Batt/train_v.txt') \n",
        "#df_train = df_train.astype(int)\n",
        "df_test = pd.read_csv('/content/drive/MyDrive/Colab Notebooks/Data/Batt/test_v.txt')\n",
        "train_data_input = df_train.iloc[:,:-1]\n",
        "train_data_output = df_train.iloc[:,-1]\n",
        "test_data_input = df_test.iloc[:,:-1]\n",
        "test_data_output = df_test.iloc[:,-1]\n",
        "\n",
        "train_data = df_train.iloc[:,:]\n",
        "test_data = df_test.iloc[:,:]\n",
        "\n",
        "trainSet_for_result = train_data\n",
        "testSet_for_result = test_data\n",
        "\n",
        "print(\"train data input : \",train_data_input.shape,train_data_input)\n",
        "print(\"train data output : \",train_data_output.shape, train_data_output)\n",
        "print(\"train_data : \",train_data.shape,train_data)\n",
        "print(\"test_data : \",test_data.shape,test_data)"
      ]
    },
    {
      "cell_type": "code",
      "source": [
        ""
      ],
      "metadata": {
        "id": "jHS5RHKPlIlo"
      },
      "execution_count": null,
      "outputs": []
    }
  ]
}